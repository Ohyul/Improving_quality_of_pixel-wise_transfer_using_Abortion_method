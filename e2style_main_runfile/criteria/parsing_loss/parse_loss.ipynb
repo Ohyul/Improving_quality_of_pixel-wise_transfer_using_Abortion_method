{
 "cells": [
  {
   "cell_type": "code",
   "execution_count": null,
   "metadata": {},
   "outputs": [],
   "source": [
    "import torch\n",
    "from torch import nn\n",
    "from criteria.parsing_loss.unet import unet\n",
    "from configs.paths_config import model_paths\n",
    "\n",
    "class ParseLoss(nn.Module):\n",
    "    def __init__(self):\n",
    "        super(ParseLoss, self).__init__()\n",
    "        print('Loading UNet')\n",
    "        self.parsenet = unet()\n",
    "        self.parsenet.load_state_dict(torch.load(model_paths['parsing_net']))\n",
    "        self.cosloss = torch.nn.CosineEmbeddingLoss()\n",
    "        self.parsenet.eval()\n",
    "\n",
    "    def extract_feats(self, x):\n",
    "        x_feats = self.parsenet(x)\n",
    "        return x_feats\n",
    "\n",
    "    def forward(self, y_hat, y):\n",
    "        n_samples = y.shape[0]\n",
    "        cos_target = torch.ones((n_samples, 1)).float().cuda()\n",
    "        loss = 0\n",
    "        y_feats = self.extract_feats(y)  # Otherwise use the feature from there\n",
    "        y_hat_feats = self.extract_feats(y_hat)\n",
    "        for i in range(5):\n",
    "            y_feat_detached = y_feats[i].detach()\n",
    "            loss += self.cosloss(y_feat_detached, y_hat_feats[i], cos_target)\n",
    "        \n",
    "        return loss\n",
    "\n"
   ]
  }
 ],
 "metadata": {
  "kernelspec": {
   "display_name": "Python 3",
   "language": "python",
   "name": "python3"
  },
  "language_info": {
   "codemirror_mode": {
    "name": "ipython",
    "version": 3
   },
   "file_extension": ".py",
   "mimetype": "text/x-python",
   "name": "python",
   "nbconvert_exporter": "python",
   "pygments_lexer": "ipython3",
   "version": "3.8.5"
  }
 },
 "nbformat": 4,
 "nbformat_minor": 4
}
