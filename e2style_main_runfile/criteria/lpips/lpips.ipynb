{
 "cells": [
  {
   "cell_type": "code",
   "execution_count": null,
   "metadata": {},
   "outputs": [],
   "source": [
    "import torch\n",
    "import torch.nn as nn\n",
    "\n",
    "from criteria.lpips.networks import get_network, LinLayers\n",
    "from criteria.lpips.utils import get_state_dict\n",
    "\n",
    "\n",
    "class LPIPS(nn.Module):\n",
    "    r\"\"\"Creates a criterion that measures\n",
    "    Learned Perceptual Image Patch Similarity (LPIPS).\n",
    "    Arguments:\n",
    "        net_type (str): the network type to compare the features:\n",
    "                        'alex' | 'squeeze' | 'vgg'. Default: 'alex'.\n",
    "        version (str): the version of LPIPS. Default: 0.1.\n",
    "    \"\"\"\n",
    "    def __init__(self, net_type: str = 'alex', version: str = '0.1'):\n",
    "\n",
    "        assert version in ['0.1'], 'v0.1 is only supported now'\n",
    "\n",
    "        super(LPIPS, self).__init__()\n",
    "\n",
    "        # pretrained network\n",
    "        self.net = get_network(net_type).to(\"cuda\")\n",
    "\n",
    "        # linear layers\n",
    "        self.lin = LinLayers(self.net.n_channels_list).to(\"cuda\")\n",
    "        self.lin.load_state_dict(get_state_dict(net_type, version))\n",
    "\n",
    "    def forward(self, x: torch.Tensor, y: torch.Tensor):\n",
    "        feat_x, feat_y = self.net(x), self.net(y)\n",
    "\n",
    "        diff = [(fx - fy) ** 2 for fx, fy in zip(feat_x, feat_y)]\n",
    "        res = [l(d).mean((2, 3), True) for d, l in zip(diff, self.lin)]\n",
    "\n",
    "        return torch.sum(torch.cat(res, 0)) / x.shape[0]\n"
   ]
  }
 ],
 "metadata": {
  "kernelspec": {
   "display_name": "Python 3",
   "language": "python",
   "name": "python3"
  },
  "language_info": {
   "codemirror_mode": {
    "name": "ipython",
    "version": 3
   },
   "file_extension": ".py",
   "mimetype": "text/x-python",
   "name": "python",
   "nbconvert_exporter": "python",
   "pygments_lexer": "ipython3",
   "version": "3.8.5"
  }
 },
 "nbformat": 4,
 "nbformat_minor": 4
}
