{
 "cells": [
  {
   "cell_type": "code",
   "execution_count": null,
   "metadata": {},
   "outputs": [],
   "source": [
    "from collections import OrderedDict\n",
    "\n",
    "import torch\n",
    "\n",
    "\n",
    "def normalize_activation(x, eps=1e-10):\n",
    "    norm_factor = torch.sqrt(torch.sum(x ** 2, dim=1, keepdim=True))\n",
    "    return x / (norm_factor + eps)\n",
    "\n",
    "\n",
    "def get_state_dict(net_type: str = 'alex', version: str = '0.1'):\n",
    "\n",
    "    old_state_dict = torch.load('pretrained_models/alex.pth', map_location=None if torch.cuda.is_available() else torch.device('cpu'))\n",
    "        \n",
    "    \n",
    "    # rename keys\n",
    "    new_state_dict = OrderedDict()\n",
    "    for key, val in old_state_dict.items():\n",
    "        new_key = key\n",
    "        new_key = new_key.replace('lin', '')\n",
    "        new_key = new_key.replace('model.', '')\n",
    "        new_state_dict[new_key] = val\n",
    "\n",
    "    return new_state_dict\n"
   ]
  }
 ],
 "metadata": {
  "kernelspec": {
   "display_name": "Python 3",
   "language": "python",
   "name": "python3"
  },
  "language_info": {
   "codemirror_mode": {
    "name": "ipython",
    "version": 3
   },
   "file_extension": ".py",
   "mimetype": "text/x-python",
   "name": "python",
   "nbconvert_exporter": "python",
   "pygments_lexer": "ipython3",
   "version": "3.8.5"
  }
 },
 "nbformat": 4,
 "nbformat_minor": 4
}
