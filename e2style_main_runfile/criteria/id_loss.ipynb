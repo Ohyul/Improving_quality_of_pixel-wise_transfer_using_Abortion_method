{
 "cells": [
  {
   "cell_type": "code",
   "execution_count": null,
   "metadata": {},
   "outputs": [],
   "source": [
    "import torch\n",
    "from torch import nn\n",
    "from configs.paths_config import model_paths\n",
    "from models.encoders.model_irse import Backbone\n",
    "\n",
    "\n",
    "class IDLoss(nn.Module):\n",
    "    def __init__(self):\n",
    "        super(IDLoss, self).__init__()\n",
    "        print('Loading ResNet ArcFace')\n",
    "        self.facenet = Backbone(input_size=112, num_layers=50, drop_ratio=0.6, mode='ir_se')\n",
    "        self.facenet.load_state_dict(torch.load(model_paths['ir_se50']))\n",
    "        self.face_pool = torch.nn.AdaptiveAvgPool2d((112, 112))\n",
    "        self.cosloss = torch.nn.CosineEmbeddingLoss()\n",
    "        self.facenet.eval()\n",
    "\n",
    "    def extract_feats(self, x):\n",
    "        x = x[:, :, 35:223, 32:220]  # Crop interesting region\n",
    "        x = self.face_pool(x)\n",
    "        x_feats = self.facenet(x)\n",
    "        return x_feats\n",
    "\n",
    "    def forward(self, y_hat, y):\n",
    "        n_samples = y.shape[0]\n",
    "        cos_target = torch.ones((n_samples, 1)).float().cuda()\n",
    "        loss = 0\n",
    "        y_feats = self.extract_feats(y)  # Otherwise use the feature from there\n",
    "        y_hat_feats = self.extract_feats(y_hat)\n",
    "        for i in range(5):\n",
    "            y_feat_detached = y_feats[i].detach()\n",
    "            loss += self.cosloss(y_feat_detached, y_hat_feats[i], cos_target)\n",
    "        \n",
    "        return loss\n"
   ]
  }
 ],
 "metadata": {
  "kernelspec": {
   "display_name": "Python 3",
   "language": "python",
   "name": "python3"
  },
  "language_info": {
   "codemirror_mode": {
    "name": "ipython",
    "version": 3
   },
   "file_extension": ".py",
   "mimetype": "text/x-python",
   "name": "python",
   "nbconvert_exporter": "python",
   "pygments_lexer": "ipython3",
   "version": "3.8.5"
  }
 },
 "nbformat": 4,
 "nbformat_minor": 4
}
