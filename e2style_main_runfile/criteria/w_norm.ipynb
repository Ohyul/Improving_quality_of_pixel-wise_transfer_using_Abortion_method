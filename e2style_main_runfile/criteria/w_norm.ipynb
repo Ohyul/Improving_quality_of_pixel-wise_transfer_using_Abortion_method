{
 "cells": [
  {
   "cell_type": "code",
   "execution_count": null,
   "metadata": {},
   "outputs": [],
   "source": [
    "import torch\n",
    "from torch import nn\n",
    "\n",
    "\n",
    "class WNormLoss(nn.Module):\n",
    "\n",
    "\tdef __init__(self, start_from_latent_avg=True):\n",
    "\t\tsuper(WNormLoss, self).__init__()\n",
    "\t\tself.start_from_latent_avg = start_from_latent_avg\n",
    "\n",
    "\tdef forward(self, latent, latent_avg=None):\n",
    "\t\tif self.start_from_latent_avg:\n",
    "\t\t\tlatent = latent - latent_avg\n",
    "\t\treturn torch.sum(latent.norm(2, dim=(1, 2))) / latent.shape[0]\n"
   ]
  }
 ],
 "metadata": {
  "kernelspec": {
   "display_name": "Python 3",
   "language": "python",
   "name": "python3"
  },
  "language_info": {
   "codemirror_mode": {
    "name": "ipython",
    "version": 3
   },
   "file_extension": ".py",
   "mimetype": "text/x-python",
   "name": "python",
   "nbconvert_exporter": "python",
   "pygments_lexer": "ipython3",
   "version": "3.8.5"
  }
 },
 "nbformat": 4,
 "nbformat_minor": 4
}
