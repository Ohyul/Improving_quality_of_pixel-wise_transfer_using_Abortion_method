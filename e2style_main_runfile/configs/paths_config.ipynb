{
 "cells": [
  {
   "cell_type": "code",
   "execution_count": null,
   "metadata": {},
   "outputs": [],
   "source": [
    "dataset_paths = {\n",
    "\t'celeba_train': '',\n",
    "\t'celeba_test': '',\n",
    "\t'celeba_train_4seg': '',\n",
    "\t'celeba_test_4seg': '',\t\n",
    "\t'celeba_train_sketch': '',\n",
    "\t'celeba_test_sketch': '',\n",
    "\t'celeba_train_segmentation': '',\n",
    "\t'celeba_test_segmentation': '',\n",
    "\t'ffhq': '',\n",
    "}\n",
    "\n",
    "model_paths = {\n",
    "\t'stylegan_ffhq': 'pretrained_models/stylegan2-ffhq-config-f.pt',\n",
    "\t'ir_se50': 'pretrained_models/model_ir_se50.pth',\n",
    "\t'parsing_net': 'pretrained_models/parsing.pth',\n",
    "\t'circular_face': 'pretrained_models/CurricularFace_Backbone.pth',\n",
    "\t'mtcnn_pnet': 'pretrained_models/mtcnn/pnet.npy',\n",
    "\t'mtcnn_rnet': 'pretrained_models/mtcnn/rnet.npy',\n",
    "\t'mtcnn_onet': 'pretrained_models/mtcnn/onet.npy',\n",
    "\t'shape_predictor': 'pretrained_models/shape_predictor_68_face_landmarks.dat'\n",
    "}\n"
   ]
  }
 ],
 "metadata": {
  "kernelspec": {
   "display_name": "Python 3",
   "language": "python",
   "name": "python3"
  },
  "language_info": {
   "codemirror_mode": {
    "name": "ipython",
    "version": 3
   },
   "file_extension": ".py",
   "mimetype": "text/x-python",
   "name": "python",
   "nbconvert_exporter": "python",
   "pygments_lexer": "ipython3",
   "version": "3.8.5"
  }
 },
 "nbformat": 4,
 "nbformat_minor": 4
}
