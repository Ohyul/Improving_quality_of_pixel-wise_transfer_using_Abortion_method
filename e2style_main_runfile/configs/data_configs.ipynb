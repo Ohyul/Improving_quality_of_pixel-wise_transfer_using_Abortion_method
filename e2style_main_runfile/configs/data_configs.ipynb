{
 "cells": [
  {
   "cell_type": "code",
   "execution_count": null,
   "metadata": {},
   "outputs": [],
   "source": [
    "from configs import transforms_config\n",
    "from configs.paths_config import dataset_paths\n",
    "\n",
    "\n",
    "DATASETS = {\n",
    "\t'ffhq_encode': {\n",
    "\t\t'transforms': transforms_config.EncodeTransforms,\n",
    "\t\t'train_source_root': dataset_paths['ffhq'],\n",
    "\t\t'train_target_root': dataset_paths['ffhq'],\n",
    "\t\t'test_source_root': dataset_paths['celeba_test'],\n",
    "\t\t'test_target_root': dataset_paths['celeba_test'],\n",
    "\t},\n",
    "\t'ffhq_colorization': {\n",
    "\t\t'transforms': transforms_config.RestorationTransforms,\n",
    "\t\t'train_source_root': dataset_paths['ffhq'],\n",
    "\t\t'train_target_root': dataset_paths['ffhq'],\n",
    "\t\t'test_source_root': dataset_paths['celeba_test'],\n",
    "\t\t'test_target_root': dataset_paths['celeba_test'],\n",
    "\t},\n",
    "\t'ffhq_denoise': {\n",
    "\t\t'transforms': transforms_config.RestorationTransforms,\n",
    "\t\t'train_source_root': dataset_paths['ffhq'],\n",
    "\t\t'train_target_root': dataset_paths['ffhq'],\n",
    "\t\t'test_source_root': dataset_paths['celeba_test'],\n",
    "\t\t'test_target_root': dataset_paths['celeba_test'],\n",
    "\t},\n",
    "\t'ffhq_inpainting': {\n",
    "\t\t'transforms': transforms_config.RestorationTransforms,\n",
    "\t\t'train_source_root': dataset_paths['ffhq'],\n",
    "\t\t'train_target_root': dataset_paths['ffhq'],\n",
    "\t\t'test_source_root': dataset_paths['celeba_test'],\n",
    "\t\t'test_target_root': dataset_paths['celeba_test'],\n",
    "\t},\n",
    "\t'celebs_sketch_to_face': {\n",
    "\t\t'transforms': transforms_config.SketchToImageTransforms,\n",
    "\t\t'train_source_root': dataset_paths['celeba_train_sketch'],\n",
    "\t\t'train_target_root': dataset_paths['celeba_train'],\n",
    "\t\t'test_source_root': dataset_paths['celeba_test_sketch'],\n",
    "\t\t'test_target_root': dataset_paths['celeba_test'],\n",
    "\t},\n",
    "\t'celebs_seg_to_face': {\n",
    "\t\t'transforms': transforms_config.SegToImageTransforms,\n",
    "\t\t'train_source_root': dataset_paths['celeba_train_segmentation'],\n",
    "\t\t'train_target_root': dataset_paths['celeba_train_4seg'],\n",
    "\t\t'test_source_root': dataset_paths['celeba_test_segmentation'],\n",
    "\t\t'test_target_root': dataset_paths['celeba_test_4seg'],\n",
    "\t},\n",
    "\t'celebs_super_resolution': {\n",
    "\t\t'transforms': transforms_config.SuperResTransforms,\n",
    "\t\t'train_source_root': dataset_paths['celeba_train'],\n",
    "\t\t'train_target_root': dataset_paths['celeba_train'],\n",
    "\t\t'test_source_root': dataset_paths['celeba_test'],\n",
    "\t\t'test_target_root': dataset_paths['celeba_test'],\n",
    "\t},\n",
    "}\n"
   ]
  }
 ],
 "metadata": {
  "kernelspec": {
   "display_name": "Python 3",
   "language": "python",
   "name": "python3"
  },
  "language_info": {
   "codemirror_mode": {
    "name": "ipython",
    "version": 3
   },
   "file_extension": ".py",
   "mimetype": "text/x-python",
   "name": "python",
   "nbconvert_exporter": "python",
   "pygments_lexer": "ipython3",
   "version": "3.8.5"
  }
 },
 "nbformat": 4,
 "nbformat_minor": 4
}
