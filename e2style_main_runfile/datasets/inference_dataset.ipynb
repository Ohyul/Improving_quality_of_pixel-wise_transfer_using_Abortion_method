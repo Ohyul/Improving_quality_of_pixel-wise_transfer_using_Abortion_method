{
 "cells": [
  {
   "cell_type": "code",
   "execution_count": null,
   "metadata": {},
   "outputs": [],
   "source": [
    "from torch.utils.data import Dataset\n",
    "from PIL import Image\n",
    "from utils import data_utils\n",
    "\n",
    "\n",
    "class InferenceDataset(Dataset):\n",
    "\n",
    "\tdef __init__(self, root, opts, transform=None):\n",
    "\t\tself.paths = sorted(data_utils.make_dataset(root))\n",
    "\t\tself.transform = transform\n",
    "\t\tself.opts = opts\n",
    "\n",
    "\tdef __len__(self):\n",
    "\t\treturn len(self.paths)\n",
    "\n",
    "\tdef __getitem__(self, index):\n",
    "\t\tfrom_path = self.paths[index]\n",
    "\t\tfrom_im = Image.open(from_path)\n",
    "\t\tfrom_im = from_im.convert('RGB') if self.opts.label_nc == 0 else from_im.convert('L')\n",
    "\t\tif self.transform:\n",
    "\t\t\tfrom_im = self.transform(from_im)\n",
    "\t\treturn from_im\n"
   ]
  }
 ],
 "metadata": {
  "kernelspec": {
   "display_name": "Python 3",
   "language": "python",
   "name": "python3"
  },
  "language_info": {
   "codemirror_mode": {
    "name": "ipython",
    "version": 3
   },
   "file_extension": ".py",
   "mimetype": "text/x-python",
   "name": "python",
   "nbconvert_exporter": "python",
   "pygments_lexer": "ipython3",
   "version": "3.8.5"
  }
 },
 "nbformat": 4,
 "nbformat_minor": 4
}
